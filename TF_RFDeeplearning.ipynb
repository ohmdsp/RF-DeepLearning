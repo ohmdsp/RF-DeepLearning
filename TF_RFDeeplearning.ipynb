{
 "cells": [
  {
   "cell_type": "markdown",
   "metadata": {},
   "source": [
    "## RF Deep Learning - Modulation Classification\n",
    "Exploring ways to exploit Radio Frequency (RF) data using deep learning. This tutorial looks at using complex-valued samples for modulation recognitions and signal classification. The I & Q values of each sample are treated seperately in this tutorial. In the next tutorial, I will show methods for using complex-valued activation functions and operations in neural networks. \n",
    "\n",
    "You should study the following references:\n",
    "\n",
    "[1] [Convolutional Radio Modulation Recognition Networks](https://arxiv.org/abs/1602.04105)\n",
    "\n",
    "[2] [Modulation Recognition Using Deep Learning](https://blog.kickview.com/modulation-recognition-using-deep-learning/)\n",
    "\n",
    "[3] [Signal Detection Using Deep Learning](https://blog.kickview.com/signal-detection-using-deep-learning/)\n"
   ]
  },
  {
   "cell_type": "code",
   "execution_count": 1,
   "metadata": {},
   "outputs": [],
   "source": [
    "# Imports\n",
    "from sklearn.metrics import classification_report, confusion_matrix\n",
    "from RFDataReader import RFDataReader\n",
    "#from RFNN import *\n",
    "import numpy as np\n",
    "from matplotlib import pyplot as plt\n",
    "import tensorflow as tf\n",
    "import pickle\n",
    "from pprint import *\n",
    "import os"
   ]
  },
  {
   "cell_type": "code",
   "execution_count": 2,
   "metadata": {},
   "outputs": [],
   "source": [
    "from tensorflow.python.keras import metrics\n",
    "from tensorflow.python.keras.initializers import RandomNormal\n",
    "from tensorflow.python.keras.applications.vgg16 import VGG16\n",
    "from tensorflow.python.keras.optimizers import SGD, Adam\n",
    "from tensorflow.python.keras.models import Model,Sequential\n",
    "from tensorflow.python.keras.layers import Input, Dense, Flatten, Activation, Dropout, Conv2D, MaxPooling2D, UpSampling2D\n",
    "from tensorflow.python.keras.layers import concatenate, multiply, BatchNormalization, ReLU, Softmax,ZeroPadding2D,Reshape\n",
    "from tensorflow.python.keras import backend as K\n",
    "from tensorflow.python.keras.models import model_from_json"
   ]
  },
  {
   "cell_type": "code",
   "execution_count": 3,
   "metadata": {},
   "outputs": [
    {
     "data": {
      "text/plain": [
       "'1.14.0'"
      ]
     },
     "execution_count": 3,
     "metadata": {},
     "output_type": "execute_result"
    }
   ],
   "source": [
    "tf.__version__"
   ]
  },
  {
   "cell_type": "code",
   "execution_count": 4,
   "metadata": {},
   "outputs": [],
   "source": [
    "#tf.enable_eager_execution()"
   ]
  },
  {
   "cell_type": "code",
   "execution_count": 5,
   "metadata": {},
   "outputs": [],
   "source": [
    "plt.rcParams[\"figure.figsize\"] = (12,8)  # adjusting plot sizes in notebook"
   ]
  },
  {
   "cell_type": "code",
   "execution_count": 6,
   "metadata": {},
   "outputs": [],
   "source": [
    "# Datasets are avilable at https://www.deepsig.io/datasets\n",
    "dataFile = '/dml/notebooks/datasets/RML2016.10a_dict.pkl'"
   ]
  },
  {
   "cell_type": "code",
   "execution_count": 7,
   "metadata": {},
   "outputs": [],
   "source": [
    "# with open(dataFile, 'rb') as f:\n",
    "#     data= pickle.load(f, encoding='latin1') "
   ]
  },
  {
   "cell_type": "code",
   "execution_count": 8,
   "metadata": {},
   "outputs": [],
   "source": [
    "# Setup important parameters of the data\n",
    "sampleRate = 1e6 # input sample rate of dataset"
   ]
  },
  {
   "cell_type": "code",
   "execution_count": 9,
   "metadata": {},
   "outputs": [
    {
     "name": "stdout",
     "output_type": "stream",
     "text": [
      "\n",
      "Modulation types present in data:\n",
      "\n",
      "['8PSK', 'AM-DSB', 'AM-SSB', 'BPSK', 'CPFSK', 'GFSK', 'PAM4', 'QAM16', 'QAM64', 'QPSK', 'WBFM']\n",
      "\n",
      "SNR ranges for each modulation type in data:\n",
      "\n",
      "[-20, -18, -16, -14, -12, -10, -8, -6, -4, -2, 0, 2, 4, 6, 8, 10, 12, 14, 16, 18]\n"
     ]
    }
   ],
   "source": [
    "# Create RFDataReader object to read in and parse the data\n",
    "# This will display some info about the data to the console\n",
    "RFData = RFDataReader(dataFile, sampleRate)"
   ]
  },
  {
   "cell_type": "code",
   "execution_count": 10,
   "metadata": {},
   "outputs": [],
   "source": [
    "# Specify which SNR ranges for input dataset processing\n",
    "SNRs = range(-14, 20, 2) # SNR ranges to use in data processing"
   ]
  },
  {
   "cell_type": "code",
   "execution_count": 11,
   "metadata": {},
   "outputs": [],
   "source": [
    "# Specify which modulations to look at for input dataset processing\n",
    "MODs = ['AM-DSB', 'AM-SSB', 'WBFM', '8PSK', 'BPSK', 'CPFSK', 'GFSK', 'PAM4', 'QAM16', 'QAM64', 'QPSK']\n",
    "#MODs = ['BPSK', 'WBFM', '8PSK']"
   ]
  },
  {
   "cell_type": "code",
   "execution_count": 12,
   "metadata": {},
   "outputs": [],
   "source": [
    "# Specify what the output labels should be\n",
    "outputClasses = MODs\n",
    "LABELs = range(0, len(MODs))\n",
    "inputDim = [128, 2]\n",
    "numOutputClasses = len(outputClasses)"
   ]
  },
  {
   "cell_type": "code",
   "execution_count": 13,
   "metadata": {},
   "outputs": [
    {
     "name": "stdout",
     "output_type": "stream",
     "text": [
      "Creating training and testing data sets...\n",
      "\n",
      "Modulation:  AM-DSB\n",
      "Number of training samples:  8500\n",
      "Number of testing samples:  8500\n",
      "\n",
      "Modulation:  AM-SSB\n",
      "Number of training samples:  8500\n",
      "Number of testing samples:  8500\n",
      "\n",
      "Modulation:  WBFM\n",
      "Number of training samples:  8500\n",
      "Number of testing samples:  8500\n",
      "\n",
      "Modulation:  8PSK\n",
      "Number of training samples:  8500\n",
      "Number of testing samples:  8500\n",
      "\n",
      "Modulation:  BPSK\n",
      "Number of training samples:  8500\n",
      "Number of testing samples:  8500\n",
      "\n",
      "Modulation:  CPFSK\n",
      "Number of training samples:  8500\n",
      "Number of testing samples:  8500\n",
      "\n",
      "Modulation:  GFSK\n",
      "Number of training samples:  8500\n",
      "Number of testing samples:  8500\n",
      "\n",
      "Modulation:  PAM4\n",
      "Number of training samples:  8500\n",
      "Number of testing samples:  8500\n",
      "\n",
      "Modulation:  QAM16\n",
      "Number of training samples:  8500\n",
      "Number of testing samples:  8500\n",
      "\n",
      "Modulation:  QAM64\n",
      "Number of training samples:  8500\n",
      "Number of testing samples:  8500\n",
      "\n",
      "Modulation:  QPSK\n",
      "Number of training samples:  8500\n",
      "Number of testing samples:  8500\n",
      "\n"
     ]
    }
   ],
   "source": [
    "# Create training and testing data sets\n",
    "RFData.create_train_and_test_sets(trainingRatio=0.5, snrs_used=SNRs,\n",
    "                                    mods_used=MODs, outputClasses=outputClasses,\n",
    "                                    labels=LABELs, normalize=True)"
   ]
  },
  {
   "cell_type": "code",
   "execution_count": 14,
   "metadata": {},
   "outputs": [
    {
     "name": "stdout",
     "output_type": "stream",
     "text": [
      "Training data shape:  (93500, 2, 128)\n",
      "Testing data shape:  (93500, 2, 128)\n",
      "Input shape = : (2, 128)\n"
     ]
    }
   ],
   "source": [
    "print('Training data shape: ', RFData.trainIandQ.shape)\n",
    "print('Testing data shape: ',RFData.testIandQ.shape)\n",
    "in_shp = RFData.trainIandQ.shape[1:]\n",
    "print('Input shape = :', in_shp)"
   ]
  },
  {
   "cell_type": "code",
   "execution_count": 15,
   "metadata": {},
   "outputs": [
    {
     "data": {
      "image/png": "[encoded data removed]",
      "text/plain": [
       "<Figure size 360x432 with 3 Axes>"
      ]
     },
     "metadata": {
      "needs_background": "light"
     },
     "output_type": "display_data"
    },
    {
     "data": {
      "image/png": "[encoded data removed]",
      "text/plain": [
       "<Figure size 288x288 with 2 Axes>"
      ]
     },
     "metadata": {
      "needs_background": "light"
     },
     "output_type": "display_data"
    },
    {
     "data": {
      "image/png": "[encoded data removed]",
      "text/plain": [
       "<Figure size 288x288 with 2 Axes>"
      ]
     },
     "metadata": {
      "needs_background": "light"
     },
     "output_type": "display_data"
    }
   ],
   "source": [
    "RFData.snapPlot('BPSK', 18, 100, normalize=True)\n",
    "# RFData.snapPlot('WBFM', 18, 10, normalize=True)\n",
    "# RFData.snapPlot('8PSK', 18, 100, normalize=True)"
   ]
  },
  {
   "cell_type": "code",
   "execution_count": 16,
   "metadata": {},
   "outputs": [
    {
     "data": {
      "text/plain": [
       "['AM-DSB',\n",
       " 'AM-SSB',\n",
       " 'WBFM',\n",
       " '8PSK',\n",
       " 'BPSK',\n",
       " 'CPFSK',\n",
       " 'GFSK',\n",
       " 'PAM4',\n",
       " 'QAM16',\n",
       " 'QAM64',\n",
       " 'QPSK']"
      ]
     },
     "execution_count": 16,
     "metadata": {},
     "output_type": "execute_result"
    }
   ],
   "source": [
    "RFData.outputClasses"
   ]
  },
  {
   "cell_type": "code",
   "execution_count": 17,
   "metadata": {},
   "outputs": [],
   "source": [
    "#RF data generator \n",
    "def RFdata_generator(rfdata, mode, data_type, batch_size):\n",
    "    \n",
    "    while True:\n",
    "\n",
    "        # Select what kind of data to process\n",
    "        if data_type == 'IandQ':\n",
    "            if mode == 'train':\n",
    "                data = RFData.trainIandQ\n",
    "                num_samples = RFData.trainIandQ.shape[0]\n",
    "            elif mode == 'test':\n",
    "                data = RFData.testIandQ\n",
    "                num_samples = RFData.testIandQ.shape[0]\n",
    "        elif data_type == 'AmpPhase':\n",
    "            if mode == 'train':\n",
    "                data = RFData.trainAmpPhase\n",
    "                num_samples = RFData.trainAmpPhase.shape[0]\n",
    "            elif mode == 'test':\n",
    "                data = RFData.testAmpPhase\n",
    "                num_samples = RFData.testAmpPhase.shape[0]\n",
    "\n",
    "        if mode == 'train':\n",
    "            labels = RFData.trainOutLabels\n",
    "        elif mode == 'test':\n",
    "            labels = RFData.testOutLabels\n",
    "        \n",
    "\n",
    "        # Go through the data in batches\n",
    "        for idx in range(0, num_samples-batch_size, batch_size):   \n",
    "            # Compute start and end indices\n",
    "            start_idx = idx\n",
    "            end_idx = idx + batch_size\n",
    "            local_batch_size = end_idx - start_idx\n",
    "            #print('Start idx = :', start_idx)\n",
    "            #print('End idx = :', end_idx)\n",
    "            #print('Local batch size = :', local_batch_size)\n",
    "\n",
    "            # Get data for this training batch\n",
    "            dataBatch = data[start_idx:end_idx,:,:]\n",
    "            \n",
    "            # Get labels for this training batch\n",
    "            labelBatch = np.zeros((local_batch_size, numOutputClasses))\n",
    "            for samp in range(start_idx, end_idx):\n",
    "                labelBatch[samp - start_idx, int(labels[samp])] = 1\n",
    "\n",
    "            data_x = dataBatch\n",
    "            #data_x = np.expand_dims(data_x,axis  = 1)\n",
    "            data_y = labelBatch\n",
    "            yield(data_x, data_y)"
   ]
  },
  {
   "cell_type": "code",
   "execution_count": 18,
   "metadata": {},
   "outputs": [],
   "source": [
    "# Define our Deep Neural Network\n",
    "def RFNet():  \n",
    "              \n",
    "    model = Sequential()\n",
    "    model.add(Reshape((2,128,1), input_shape = in_shp))\n",
    "    model.add(ZeroPadding2D((0,2)))        \n",
    "    model.add(Conv2D(256, (1, 3), activation='relu', kernel_initializer = 'glorot_uniform', padding = 'valid'))\n",
    "    model.add(Dropout(0.5))\n",
    "    model.add(ZeroPadding2D((0,2)))\n",
    "    model.add(Conv2D(80, (2, 3), activation='relu', kernel_initializer = 'glorot_uniform', padding = 'valid'))\n",
    "    model.add(Dropout(0.5))\n",
    "    model.add(Flatten())\n",
    "    model.add(Dense(256, activation='relu', kernel_initializer='he_normal'))\n",
    "    model.add(Dropout(0.5))\n",
    "    #model.add(Dense(128, activation='relu', kernel_initializer='he_normal'))\n",
    "    #model.add(Dropout(0.7))\n",
    "    model.add(Dense(numOutputClasses, kernel_initializer='he_normal'))\n",
    "    model.add(Activation('softmax'))\n",
    "    model.add(Reshape([numOutputClasses])) \n",
    "      \n",
    "    return model"
   ]
  },
  {
   "cell_type": "code",
   "execution_count": 19,
   "metadata": {},
   "outputs": [
    {
     "name": "stdout",
     "output_type": "stream",
     "text": [
      "WARNING:tensorflow:From /usr/local/lib/python3.6/dist-packages/tensorflow/python/ops/init_ops.py:1251: calling VarianceScaling.__init__ (from tensorflow.python.ops.init_ops) with dtype is deprecated and will be removed in a future version.\n",
      "Instructions for updating:\n",
      "Call initializer instance with the dtype argument instead of passing it to the constructor\n"
     ]
    }
   ],
   "source": [
    "model = RFNet()"
   ]
  },
  {
   "cell_type": "code",
   "execution_count": 20,
   "metadata": {},
   "outputs": [
    {
     "name": "stdout",
     "output_type": "stream",
     "text": [
      "Model: \"sequential\"\n",
      "_________________________________________________________________\n",
      "Layer (type)                 Output Shape              Param #   \n",
      "=================================================================\n",
      "reshape (Reshape)            (None, 2, 128, 1)         0         \n",
      "_________________________________________________________________\n",
      "zero_padding2d (ZeroPadding2 (None, 2, 132, 1)         0         \n",
      "_________________________________________________________________\n",
      "conv2d (Conv2D)              (None, 2, 130, 256)       1024      \n",
      "_________________________________________________________________\n",
      "dropout (Dropout)            (None, 2, 130, 256)       0         \n",
      "_________________________________________________________________\n",
      "zero_padding2d_1 (ZeroPaddin (None, 2, 134, 256)       0         \n",
      "_________________________________________________________________\n",
      "conv2d_1 (Conv2D)            (None, 1, 132, 80)        122960    \n",
      "_________________________________________________________________\n",
      "dropout_1 (Dropout)          (None, 1, 132, 80)        0         \n",
      "_________________________________________________________________\n",
      "flatten (Flatten)            (None, 10560)             0         \n",
      "_________________________________________________________________\n",
      "dense (Dense)                (None, 256)               2703616   \n",
      "_________________________________________________________________\n",
      "dropout_2 (Dropout)          (None, 256)               0         \n",
      "_________________________________________________________________\n",
      "dense_1 (Dense)              (None, 11)                2827      \n",
      "_________________________________________________________________\n",
      "activation (Activation)      (None, 11)                0         \n",
      "_________________________________________________________________\n",
      "reshape_1 (Reshape)          (None, 11)                0         \n",
      "=================================================================\n",
      "Total params: 2,830,427\n",
      "Trainable params: 2,830,427\n",
      "Non-trainable params: 0\n",
      "_________________________________________________________________\n"
     ]
    }
   ],
   "source": [
    "model.summary()"
   ]
  },
  {
   "cell_type": "code",
   "execution_count": 21,
   "metadata": {},
   "outputs": [],
   "source": [
    "from tensorflow.python.keras.optimizers import Adam\n",
    "#from tensorflow.python.keras.optimizers import SGD\n",
    "\n",
    "optimizer = Adam(lr=0.0001, beta_1=0.9, beta_2=0.999, amsgrad=False)  # lr = learning rate for the optimizer\n",
    "#optimizer = SGD(lr=0.0001, momentum=0.9)"
   ]
  },
  {
   "cell_type": "code",
   "execution_count": 22,
   "metadata": {},
   "outputs": [],
   "source": [
    "model.compile(optimizer=optimizer,\n",
    "              loss='categorical_crossentropy',\n",
    "              metrics=['accuracy'])"
   ]
  },
  {
   "cell_type": "code",
   "execution_count": 23,
   "metadata": {},
   "outputs": [],
   "source": [
    "num_epochs = 60\n",
    "batch_size = 1024\n",
    "data_type = 'IandQ'\n",
    "#inputShape = inputDim[0] * inputDim[1]\n",
    "num_of_train_samples = RFData.trainIandQ.shape[0]\n",
    "num_of_test_samples = RFData.testIandQ.shape[0]"
   ]
  },
  {
   "cell_type": "code",
   "execution_count": 24,
   "metadata": {},
   "outputs": [],
   "source": [
    "train_gen = RFdata_generator(RFData,'train','IandQ',batch_size)\n",
    "\n",
    "test_gen = RFdata_generator(RFData,'test', 'IandQ',batch_size)"
   ]
  },
  {
   "cell_type": "code",
   "execution_count": 25,
   "metadata": {},
   "outputs": [
    {
     "name": "stdout",
     "output_type": "stream",
     "text": [
      "Training w/ generator...\n",
      "Epoch 1/60\n",
      "WARNING:tensorflow:From /usr/local/lib/python3.6/dist-packages/tensorflow/python/ops/math_grad.py:1250: add_dispatch_support.<locals>.wrapper (from tensorflow.python.ops.array_ops) is deprecated and will be removed in a future version.\n",
      "Instructions for updating:\n",
      "Use tf.where in 2.0, which has the same broadcast rule as np.where\n",
      "91/91 [==============================] - 13s 141ms/step - loss: 2.1840 - acc: 0.1994 - val_loss: 1.9773 - val_acc: 0.2771\n",
      "Epoch 2/60\n",
      "91/91 [==============================] - 5s 55ms/step - loss: 1.9501 - acc: 0.2853 - val_loss: 1.8271 - val_acc: 0.3240\n",
      "Epoch 3/60\n",
      "91/91 [==============================] - 5s 55ms/step - loss: 1.8365 - acc: 0.3185 - val_loss: 1.7101 - val_acc: 0.3841\n",
      "Epoch 4/60\n",
      "91/91 [==============================] - 5s 55ms/step - loss: 1.7323 - acc: 0.3603 - val_loss: 1.5876 - val_acc: 0.4258\n",
      "Epoch 5/60\n",
      "91/91 [==============================] - 5s 55ms/step - loss: 1.6218 - acc: 0.3999 - val_loss: 1.4707 - val_acc: 0.4613\n",
      "Epoch 6/60\n",
      "91/91 [==============================] - 5s 55ms/step - loss: 1.5306 - acc: 0.4295 - val_loss: 1.3937 - val_acc: 0.4934\n",
      "Epoch 7/60\n",
      "91/91 [==============================] - 5s 55ms/step - loss: 1.4613 - acc: 0.4517 - val_loss: 1.3349 - val_acc: 0.5060\n",
      "Epoch 8/60\n",
      "91/91 [==============================] - 5s 55ms/step - loss: 1.4131 - acc: 0.4692 - val_loss: 1.2953 - val_acc: 0.5192\n",
      "Epoch 9/60\n",
      "91/91 [==============================] - 5s 56ms/step - loss: 1.3790 - acc: 0.4785 - val_loss: 1.2642 - val_acc: 0.5274\n",
      "Epoch 10/60\n",
      "91/91 [==============================] - 5s 55ms/step - loss: 1.3439 - acc: 0.4909 - val_loss: 1.2337 - val_acc: 0.5355\n",
      "Epoch 11/60\n",
      "91/91 [==============================] - 5s 56ms/step - loss: 1.3140 - acc: 0.5009 - val_loss: 1.2113 - val_acc: 0.5414\n",
      "Epoch 12/60\n",
      "91/91 [==============================] - 5s 55ms/step - loss: 1.2912 - acc: 0.5073 - val_loss: 1.1923 - val_acc: 0.5467\n",
      "Epoch 13/60\n",
      "91/91 [==============================] - 5s 55ms/step - loss: 1.2687 - acc: 0.5140 - val_loss: 1.1786 - val_acc: 0.5493\n",
      "Epoch 14/60\n",
      "91/91 [==============================] - 5s 55ms/step - loss: 1.2502 - acc: 0.5179 - val_loss: 1.1611 - val_acc: 0.5540\n",
      "Epoch 15/60\n",
      "91/91 [==============================] - 5s 56ms/step - loss: 1.2318 - acc: 0.5264 - val_loss: 1.1485 - val_acc: 0.5576\n",
      "Epoch 16/60\n",
      "91/91 [==============================] - 5s 55ms/step - loss: 1.2154 - acc: 0.5322 - val_loss: 1.1380 - val_acc: 0.5586\n",
      "Epoch 17/60\n",
      "91/91 [==============================] - 5s 56ms/step - loss: 1.2068 - acc: 0.5334 - val_loss: 1.1314 - val_acc: 0.5606\n",
      "Epoch 18/60\n",
      "91/91 [==============================] - 5s 56ms/step - loss: 1.1941 - acc: 0.5386 - val_loss: 1.1214 - val_acc: 0.5638\n",
      "Epoch 19/60\n",
      "91/91 [==============================] - 5s 56ms/step - loss: 1.1826 - acc: 0.5415 - val_loss: 1.1133 - val_acc: 0.5649\n",
      "Epoch 20/60\n",
      "91/91 [==============================] - 5s 55ms/step - loss: 1.1682 - acc: 0.5474 - val_loss: 1.1070 - val_acc: 0.5701\n",
      "Epoch 21/60\n",
      "91/91 [==============================] - 5s 56ms/step - loss: 1.1605 - acc: 0.5492 - val_loss: 1.0976 - val_acc: 0.5702\n",
      "Epoch 22/60\n",
      "91/91 [==============================] - 5s 56ms/step - loss: 1.1506 - acc: 0.5528 - val_loss: 1.0955 - val_acc: 0.5713\n",
      "Epoch 23/60\n",
      "91/91 [==============================] - 5s 56ms/step - loss: 1.1438 - acc: 0.5549 - val_loss: 1.0870 - val_acc: 0.5725\n",
      "Epoch 24/60\n",
      "91/91 [==============================] - 5s 56ms/step - loss: 1.1344 - acc: 0.5560 - val_loss: 1.0831 - val_acc: 0.5761\n",
      "Epoch 25/60\n",
      "91/91 [==============================] - 5s 56ms/step - loss: 1.1254 - acc: 0.5610 - val_loss: 1.0753 - val_acc: 0.5790\n",
      "Epoch 26/60\n",
      "91/91 [==============================] - 5s 56ms/step - loss: 1.1170 - acc: 0.5621 - val_loss: 1.0729 - val_acc: 0.5781\n",
      "Epoch 27/60\n",
      "91/91 [==============================] - 5s 57ms/step - loss: 1.1110 - acc: 0.5670 - val_loss: 1.0686 - val_acc: 0.5801\n",
      "Epoch 28/60\n",
      "91/91 [==============================] - 5s 56ms/step - loss: 1.1030 - acc: 0.5696 - val_loss: 1.0628 - val_acc: 0.5848\n",
      "Epoch 29/60\n",
      "91/91 [==============================] - 5s 56ms/step - loss: 1.0983 - acc: 0.5722 - val_loss: 1.0593 - val_acc: 0.5842\n",
      "Epoch 30/60\n",
      "91/91 [==============================] - 5s 56ms/step - loss: 1.0906 - acc: 0.5740 - val_loss: 1.0528 - val_acc: 0.5858\n",
      "Epoch 31/60\n",
      "91/91 [==============================] - 5s 56ms/step - loss: 1.0858 - acc: 0.5761 - val_loss: 1.0513 - val_acc: 0.5862\n",
      "Epoch 32/60\n",
      "91/91 [==============================] - 5s 56ms/step - loss: 1.0783 - acc: 0.5784 - val_loss: 1.0471 - val_acc: 0.5874\n",
      "Epoch 33/60\n",
      "91/91 [==============================] - 5s 57ms/step - loss: 1.0705 - acc: 0.5812 - val_loss: 1.0418 - val_acc: 0.5912\n",
      "Epoch 34/60\n",
      "91/91 [==============================] - 5s 57ms/step - loss: 1.0655 - acc: 0.5843 - val_loss: 1.0390 - val_acc: 0.5937\n",
      "Epoch 35/60\n",
      "91/91 [==============================] - 5s 57ms/step - loss: 1.0625 - acc: 0.5837 - val_loss: 1.0403 - val_acc: 0.5917\n",
      "Epoch 36/60\n",
      "91/91 [==============================] - 5s 57ms/step - loss: 1.0547 - acc: 0.5858 - val_loss: 1.0334 - val_acc: 0.5936\n",
      "Epoch 37/60\n",
      "91/91 [==============================] - 5s 57ms/step - loss: 1.0499 - acc: 0.5893 - val_loss: 1.0315 - val_acc: 0.5940\n",
      "Epoch 38/60\n",
      "91/91 [==============================] - 5s 57ms/step - loss: 1.0445 - acc: 0.5908 - val_loss: 1.0296 - val_acc: 0.5970\n",
      "Epoch 39/60\n",
      "91/91 [==============================] - 5s 57ms/step - loss: 1.0378 - acc: 0.5932 - val_loss: 1.0259 - val_acc: 0.5965\n",
      "Epoch 40/60\n",
      "91/91 [==============================] - 5s 57ms/step - loss: 1.0361 - acc: 0.5937 - val_loss: 1.0235 - val_acc: 0.5966\n",
      "Epoch 41/60\n",
      "91/91 [==============================] - 5s 58ms/step - loss: 1.0297 - acc: 0.5963 - val_loss: 1.0204 - val_acc: 0.5998\n",
      "Epoch 42/60\n",
      "91/91 [==============================] - 5s 58ms/step - loss: 1.0273 - acc: 0.5971 - val_loss: 1.0196 - val_acc: 0.5988\n",
      "Epoch 43/60\n",
      "91/91 [==============================] - 5s 57ms/step - loss: 1.0202 - acc: 0.5986 - val_loss: 1.0156 - val_acc: 0.6010\n",
      "Epoch 44/60\n",
      "91/91 [==============================] - 5s 58ms/step - loss: 1.0185 - acc: 0.6008 - val_loss: 1.0182 - val_acc: 0.6023\n",
      "Epoch 45/60\n",
      "91/91 [==============================] - 5s 57ms/step - loss: 1.0104 - acc: 0.6051 - val_loss: 1.0164 - val_acc: 0.6021\n",
      "Epoch 46/60\n",
      "91/91 [==============================] - 5s 58ms/step - loss: 1.0087 - acc: 0.6026 - val_loss: 1.0127 - val_acc: 0.6022\n",
      "Epoch 47/60\n",
      "91/91 [==============================] - 5s 58ms/step - loss: 1.0036 - acc: 0.6064 - val_loss: 1.0087 - val_acc: 0.6034\n",
      "Epoch 48/60\n",
      "91/91 [==============================] - 5s 58ms/step - loss: 0.9999 - acc: 0.6071 - val_loss: 1.0104 - val_acc: 0.6019\n",
      "Epoch 49/60\n",
      "91/91 [==============================] - 5s 58ms/step - loss: 0.9983 - acc: 0.6079 - val_loss: 1.0077 - val_acc: 0.6023\n",
      "Epoch 50/60\n",
      "91/91 [==============================] - 5s 58ms/step - loss: 0.9921 - acc: 0.6096 - val_loss: 1.0058 - val_acc: 0.6019\n",
      "Epoch 51/60\n",
      "91/91 [==============================] - 5s 58ms/step - loss: 0.9913 - acc: 0.6080 - val_loss: 1.0058 - val_acc: 0.6022\n",
      "Epoch 52/60\n",
      "91/91 [==============================] - 5s 58ms/step - loss: 0.9865 - acc: 0.6122 - val_loss: 1.0020 - val_acc: 0.6032\n",
      "Epoch 53/60\n",
      "91/91 [==============================] - 5s 58ms/step - loss: 0.9818 - acc: 0.6130 - val_loss: 1.0043 - val_acc: 0.6035\n",
      "Epoch 54/60\n",
      "91/91 [==============================] - 5s 58ms/step - loss: 0.9788 - acc: 0.6158 - val_loss: 1.0007 - val_acc: 0.6047\n",
      "Epoch 55/60\n",
      "91/91 [==============================] - 5s 59ms/step - loss: 0.9730 - acc: 0.6188 - val_loss: 0.9985 - val_acc: 0.6044\n",
      "Epoch 56/60\n",
      "91/91 [==============================] - 5s 58ms/step - loss: 0.9724 - acc: 0.6165 - val_loss: 1.0007 - val_acc: 0.6050\n",
      "Epoch 57/60\n",
      "91/91 [==============================] - 5s 58ms/step - loss: 0.9687 - acc: 0.6182 - val_loss: 0.9995 - val_acc: 0.6052\n",
      "Epoch 58/60\n",
      "91/91 [==============================] - 5s 59ms/step - loss: 0.9645 - acc: 0.6195 - val_loss: 0.9972 - val_acc: 0.6069\n",
      "Epoch 59/60\n",
      "91/91 [==============================] - 5s 58ms/step - loss: 0.9595 - acc: 0.6212 - val_loss: 0.9983 - val_acc: 0.6060\n",
      "Epoch 60/60\n",
      "91/91 [==============================] - 5s 58ms/step - loss: 0.9574 - acc: 0.6218 - val_loss: 0.9957 - val_acc: 0.6054\n"
     ]
    }
   ],
   "source": [
    "print(\"Training w/ generator...\")\n",
    "H = model.fit_generator(\n",
    "    train_gen,\n",
    "    steps_per_epoch = num_of_train_samples // batch_size,\n",
    "    #callbacks=callbacks_list,\n",
    "    #workers=4,\n",
    "    validation_data = test_gen,\n",
    "    validation_steps = num_of_test_samples // batch_size,\n",
    "    epochs = num_epochs)\n",
    "\n",
    "#history = model.fit(x_train, y_train, epochs=epochs, batch_size=64, validation_data=(x_test, y_test), verbose=1)"
   ]
  },
  {
   "cell_type": "code",
   "execution_count": null,
   "metadata": {},
   "outputs": [],
   "source": [
    "# plot the training loss and accuracy\n",
    "N = num_epochs\n",
    "plt.style.use(\"ggplot\")\n",
    "plt.figure()\n",
    "plt.plot(np.arange(0, N), H.history[\"loss\"], label=\"train_loss\")\n",
    "plt.plot(np.arange(0, N), H.history[\"val_loss\"], label=\"val_loss\")\n",
    "#plt.plot(np.arange(0, N), H.history[\"acc\"], label=\"acc\")\n",
    "#plt.plot(np.arange(0, N), H.history[\"val_acc\"], label=\"val_acc\")\n",
    "plt.title(\"Training Loss\")\n",
    "plt.xlabel(\"Epoch #\")\n",
    "plt.ylabel(\"Loss\")\n",
    "plt.legend(loc=\"lower left\")\n",
    "#plt.savefig(\"plot.png\")"
   ]
  },
  {
   "cell_type": "code",
   "execution_count": null,
   "metadata": {},
   "outputs": [],
   "source": [
    "# plot the training loss and accuracy\n",
    "N = num_epochs\n",
    "plt.style.use(\"ggplot\")\n",
    "plt.figure()\n",
    "plt.plot(np.arange(0, N), H.history[\"acc\"], label=\"acc\")\n",
    "plt.plot(np.arange(0, N), H.history[\"val_acc\"], label=\"val_acc\")\n",
    "plt.title(\"Training Accuracy\")\n",
    "plt.xlabel(\"Epoch #\")\n",
    "plt.ylabel(\"Accuracy\")\n",
    "plt.legend(loc=\"lower left\")\n",
    "#plt.savefig(\"plot.png\")"
   ]
  },
  {
   "cell_type": "code",
   "execution_count": null,
   "metadata": {},
   "outputs": [],
   "source": [
    "# Normalize a confusion matrix\n",
    "def normalize_conf_mtx(cm):\n",
    "    norm_cm = []\n",
    "    for i in cm:\n",
    "        a = 0\n",
    "        tmp_arr = []\n",
    "        a = sum(i, 0)\n",
    "        for j in i:\n",
    "            if a != 0:\n",
    "                tmp_arr.append(float(j) / float(a))\n",
    "            else:\n",
    "                tmp_arr.append(0)\n",
    "\n",
    "        norm_cm.append(tmp_arr)\n",
    "\n",
    "    return np.array(norm_cm)"
   ]
  },
  {
   "cell_type": "code",
   "execution_count": null,
   "metadata": {},
   "outputs": [],
   "source": [
    "# Generate final results on test set by plotting confusion matrices\n",
    "def create_conf_mtxs(y_true, y_pred):\n",
    "    # Compute raw confusion matrix (input classes vs. output classes)\n",
    "    cm = confusion_matrix(y_true, y_pred)    # from sklearn.metrics\n",
    "    # Normalize it\n",
    "    norm_cm = normalize_conf_mtx(cm)\n",
    "    return cm, norm_cm"
   ]
  },
  {
   "cell_type": "code",
   "execution_count": null,
   "metadata": {
    "scrolled": true
   },
   "outputs": [],
   "source": [
    "# Generate final results on test set by plotting confusion matrices\n",
    "eval_gen = RFdata_generator(RFData,'test', 'IandQ',batch_size)\n",
    "\n",
    "Y_pred = model.predict_generator(eval_gen, num_of_test_samples // batch_size)\n",
    "y_pred = np.argmax(Y_pred, axis=1)\n",
    "y_pred = y_pred.astype(int)\n",
    "\n",
    "Y_true = RFData.testOutLabels.astype(int)\n",
    "y_true = Y_true[0:y_pred.shape[0]]\n",
    "\n",
    "#print(y_pred[0:20])\n",
    "#print(y_true[0:20])\n",
    "print('Confusion Matrix')\n",
    "print(confusion_matrix(y_pred, y_true))\n",
    "cm, norm_cm = create_conf_mtxs(y_true, y_pred)"
   ]
  },
  {
   "cell_type": "code",
   "execution_count": null,
   "metadata": {},
   "outputs": [],
   "source": [
    "def plot_confusion_matrix(cm, norm_cm, title='Confusion Matrix', fig_str='', mods=[], labels=[]):\n",
    "    # Plot confusion matrix\n",
    "    width, height = cm.shape\n",
    "    fig_cm = plt.figure(figsize=(10.0, 10.0))\n",
    "    ax = fig_cm.add_subplot(111)\n",
    "    ax.set_aspect(1)\n",
    "    res = ax.imshow(norm_cm, cmap=plt.cm.jet, interpolation='nearest')\n",
    "    #fig_cm.colorbar(res)\n",
    "\n",
    "    # Set title and axes\n",
    "    plt.title(title)\n",
    "\n",
    "    # Add raw count labels for each category\n",
    "    for x in range(width):\n",
    "        for y in range(height):\n",
    "            ax.annotate(str(cm[x][y]), xy=(y, x), horizontalalignment='center',\n",
    "                        verticalalignment='center', fontsize=15, color='white')\n",
    "\n",
    "    # Add modulation labels\n",
    "    plt.xticks(np.arange(0, len(labels)), labels)\n",
    "    plt.yticks(np.arange(0, len(mods)), mods)\n",
    "\n",
    "    # Save off figure\n",
    "   # if fig_str:\n",
    "   #     fig_cm.savefig(os.path.join(topDir, fig_str), bbox_inches='tight')"
   ]
  },
  {
   "cell_type": "code",
   "execution_count": null,
   "metadata": {},
   "outputs": [],
   "source": [
    "# Plot the output confusion matrix\n",
    "plot_confusion_matrix(cm, norm_cm, 'Modulation Confusion Matrix',\n",
    "                        mods=MODs, labels=outputClasses)"
   ]
  },
  {
   "cell_type": "code",
   "execution_count": null,
   "metadata": {},
   "outputs": [],
   "source": [
    "# Plot accuracy as a function of SNR\n",
    "def plot_acc_snr(y_true, y_pred, y_snr, SNRs, fig_str=''):\n",
    "    acc_snr = []\n",
    "\n",
    "    for sidx, snr in enumerate(SNRs):\n",
    "        # Get indices of this SNR in our test set\n",
    "        idxs = [i for i, x in enumerate(y_snr[0:y_pred.shape[0]]) if x == sidx]\n",
    "        \n",
    "\n",
    "        # Grab this part of the data\n",
    "        y_true_local = y_true[idxs]\n",
    "        y_pred_local = y_pred[idxs]\n",
    "\n",
    "        # Compute accuracy on this subset\n",
    "        acc_local, cts_local = compute_list_acc(y_true_local, y_pred_local)\n",
    "\n",
    "        # Store this accuracy\n",
    "        acc_snr.append(acc_local)\n",
    "\n",
    "    # Plot test set accuracy as a function of SNR\n",
    "    fig = plt.figure(figsize=(10.0, 8.0))\n",
    "\n",
    "    plt.xlabel('SNR (dB)')\n",
    "    plt.ylabel('Test Set Accuracy')\n",
    "    plt.title('Test Set Accuracy as a Function of SNR')\n",
    "\n",
    "    plt.plot(SNRs, acc_snr, linewidth=3)\n",
    "    plt.draw()\n",
    "\n",
    "    #if fig_str:\n",
    "    #    fig.savefig(os.path.join(topDir, fig_str), bbox_inches='tight')"
   ]
  },
  {
   "cell_type": "code",
   "execution_count": null,
   "metadata": {},
   "outputs": [],
   "source": [
    "# Compute an accuracy (ratio of matching elements between two lists of the same length)\n",
    "def compute_list_acc(list1, list2):\n",
    "    # Error checking\n",
    "    assert(len(list1) == len(list2))\n",
    "\n",
    "    # Compute similarity\n",
    "    acc = sum(list1 == list2) / float(len(list1))\n",
    "\n",
    "    # Compute raw counts\n",
    "    cts = sum(list1 == list2)\n",
    "\n",
    "    return acc, cts"
   ]
  },
  {
   "cell_type": "code",
   "execution_count": null,
   "metadata": {},
   "outputs": [],
   "source": [
    "# Plot test accuracy as a function of SNR\n",
    "plot_acc_snr(y_true, y_pred, RFData.testSNRs, SNRs)"
   ]
  },
  {
   "cell_type": "code",
   "execution_count": null,
   "metadata": {},
   "outputs": [],
   "source": [
    "# Function that filters results based on desired SNR ranges\n",
    "def filt_by_snr(y_true, y_pred, y_mods, y_snrs, SNRs, desired_snr):\n",
    "    # Get index of desired SNR within total SNR list\n",
    "    sidx = SNRs.index(desired_snr)\n",
    "\n",
    "    # Get indices of this SNR in our test set\n",
    "    idxs = [i for i, x in enumerate(y_snrs[0:y_pred.shape[0]]) if x == sidx]\n",
    "\n",
    "    # Grab this part of the data\n",
    "    y_true_snr = y_true[idxs]\n",
    "    y_local_snr = y_pred[idxs]\n",
    "    y_mods_snr = y_mods[idxs]\n",
    "\n",
    "    return y_true_snr, y_local_snr, y_mods_snr"
   ]
  },
  {
   "cell_type": "code",
   "execution_count": null,
   "metadata": {},
   "outputs": [],
   "source": [
    "# Function to create a confusion matrix where:\n",
    "# Each modulation has a count associated with all the output labels\n",
    "def create_mod_conf_mtx(y_true, y_pred, y_mods, mods, outputClasses):\n",
    "    cm = []\n",
    "    norm_cm = []\n",
    "    # Iterate over each modulation\n",
    "    for mod_idx, mod in enumerate(mods):\n",
    "        # Get indicies of testing samples with this modulation type\n",
    "        idxs = [i for i, x in enumerate(y_mods[0:y_pred.shape[0]]) if x == mod_idx]\n",
    "\n",
    "        # Grab just this test classification data chunk\n",
    "        y_true_mod = y_true[idxs]\n",
    "        y_pred_mod = y_pred[idxs]\n",
    "\n",
    "        # Compute overall accuracy for this modulation\n",
    "        # Compute classification accuracy for this modulation based on specified output classes\n",
    "        test_acc_mod = compute_list_acc(y_true_mod, y_pred_mod)\n",
    "        print('Overall accuracy for Modulation ' + mod + ' : ' + str(test_acc_mod))\n",
    "\n",
    "        # Compute tallies for each output class for this modulation\n",
    "        mod_count_vec = []\n",
    "        mod_acc_vec = []\n",
    "        for lbl_idx, lbl in enumerate(outputClasses):\n",
    "            mod_counts = len([i for i, x in enumerate(y_pred_mod) if x == lbl_idx])\n",
    "            mod_acc = mod_counts / float(len(y_pred_mod))\n",
    "\n",
    "            mod_count_vec.append(mod_counts)\n",
    "            mod_acc_vec.append(mod_acc)\n",
    "\n",
    "        cm.append(mod_count_vec)\n",
    "        norm_cm.append(mod_acc_vec)\n",
    "\n",
    "    return np.array(cm), np.array(norm_cm)"
   ]
  },
  {
   "cell_type": "code",
   "execution_count": null,
   "metadata": {},
   "outputs": [],
   "source": [
    "# Create a different confusion matrix - one that shows each modulation as a\n",
    "# function of the output classes\n",
    "#y_true, y_pred = RFNet.get_truth_and_predicions()\n",
    "\n",
    "cm_mod, norm_cm_mod = create_mod_conf_mtx(y_true, y_pred, RFData.testMods, MODs, outputClasses)"
   ]
  },
  {
   "cell_type": "code",
   "execution_count": null,
   "metadata": {},
   "outputs": [],
   "source": [
    "# Plot confusion matrices for 0 dB and 16 dB SNR cases\n",
    "y_true_n6dB, y_pred_n6dB, y_mods_n6dB = filt_by_snr(y_true, y_pred, RFData.testMods, RFData.testSNRs, SNRs, -6)\n",
    "y_true_14dB, y_pred_14dB, y_mods_14dB = filt_by_snr(y_true, y_pred, RFData.testMods, RFData.testSNRs, SNRs, 14)\n",
    "\n",
    "cm_mod_n6dB, norm_cm_mod_n6dB = create_mod_conf_mtx(y_true_n6dB, y_pred_n6dB, y_mods_n6dB, MODs, outputClasses)\n",
    "cm_mod_14dB, norm_cm_mod_14dB = create_mod_conf_mtx(y_true_14dB, y_pred_14dB, y_mods_14dB, MODs, outputClasses)\n",
    "\n",
    "plot_confusion_matrix(cm_mod_n6dB, norm_cm_mod_n6dB, 'Modulation Confusion Matrix for SNR = -6dB',\n",
    "                        mods=MODs, labels=outputClasses)\n",
    "\n",
    "plot_confusion_matrix(cm_mod_14dB, norm_cm_mod_14dB, 'Modulation Confusion Matrix for SNR = 14dB',\n",
    "                        mods=MODs, labels=outputClasses)\n"
   ]
  },
  {
   "cell_type": "code",
   "execution_count": null,
   "metadata": {},
   "outputs": [],
   "source": []
  }
 ],
 "metadata": {
  "kernelspec": {
   "display_name": "Python 3",
   "language": "python",
   "name": "python3"
  },
  "language_info": {
   "codemirror_mode": {
    "name": "ipython",
    "version": 3
   },
   "file_extension": ".py",
   "mimetype": "text/x-python",
   "name": "python",
   "nbconvert_exporter": "python",
   "pygments_lexer": "ipython3",
   "version": "3.6.8"
  }
 },
 "nbformat": 4,
 "nbformat_minor": 4
}
